{
  "nbformat": 4,
  "nbformat_minor": 0,
  "metadata": {
    "colab": {
      "provenance": []
    },
    "kernelspec": {
      "name": "python3",
      "display_name": "Python 3"
    },
    "language_info": {
      "name": "python"
    }
  },
  "cells": [
    {
      "cell_type": "markdown",
      "source": [
        "# Práctica 2. Soft Computing: Classificación Fuzzy \n",
        "\n",
        "**Objetivos**\n",
        "\n",
        "El objetivo de esta práctica es saber implementar un sistema difuso completo, específicamente, un Sistema de Clasificación Basado en Reglas Difusas (SCBRDs). La práctica comprenderá todas las etapas de este, desde la generación de reglas a partir de un conjunto de datos (aprendizaje del clasificador), a la realización del código del algoritmo de clasificación.\n",
        "\n",
        "**Enunciado de la práctica**\n",
        "\n",
        "Los Sistemas Basados en Reglas Difusas son aplicaciones típicas de los sistemas difusos, bien conocidas por su capacidad expresiva o de interpretabilidad, y por poder mezclar el conocimiento aportado por el experto con el obtenido o aprendido por métodos automáticos. \n",
        "\n",
        "Trabajaremos con un conjunto de datos o ejemplos (*dataset*) típico de un respositorio reconocido, aprenderemos el conjunto de reglas mediante la adaptación de un algoritmo derivado de uno de los clásicos, implementaremos la clasificación y verificaremos su comportamiento. \n",
        "\n",
        "***Implementación de un Algoritmo de Clasificación Difuso***\n",
        "\n",
        "Se trata de implementar el algoritmo de clasificación *fuzzy* completo, es decir, con capacidad de clasificar instancias nuevas empleando su Base de Conocimiento previamente aprendida mediante los algoritmos estudiados en las sesiones teóricas. \n",
        "\n",
        "Los operadores y mecanismos que se deben implementar son:\n",
        "* el mínimo (i.e. *t-norma* del *producto lógico*) para el *matching*,\n",
        "* el *producto algebraico* para la *función de ponderación*, \n",
        "* el método de *Regla Ganadora*. \n",
        "\n",
        "***Aprendizaje del Clasificador***\n",
        "\n",
        "El conjunto de ejemplos que debe emplear es el Glass1, con 9 variables, 7 clases y 214 ejemplo, que se pueden descargar de este [link](https://sci2s.ugr.es/keel/category.php?cat=clas).\n",
        "\n",
        "El universo de las variables (antecedentes) lo particionará en 3 y 5 etiquetas, para comparar los resultados. \n",
        "\n",
        "La base de reglas debe aprenderse con el algoritmo estudiado en las sesiones de teoría, conocico como método *Chi*, derivado del archiconocido *Método de Wang y Mendel*, que encuentra las reglas por un criterio de cubrimiento y calidad individual de cada regla. \n",
        "\n",
        "El conjunto de datos se dividirá en partes, como se explicará en la sección sobre la experimentación. \n",
        "\n",
        "## Variables:\n",
        "\n",
        "Variables de entrada: \n",
        "* RI --> [1.51115,1.53393]\n",
        "* Na --> [10.73,17.38] \n",
        "* Mg --> [0.0,4.49]\n",
        "* Al --> [0.29,3.5]\n",
        "* Si --> [69.81,75.41]\n",
        "* K --> [0.0,6.21]\n",
        "* Ca --> [5.43,16.19]\n",
        "* Ba --> [0.0,3.15]\n",
        "* Fe --> [0.0,0.51]\n",
        "\n",
        "Variable de salida:\n",
        "* TypeGlass: {1, 2, 3, 4, 5, 6, 7}"
      ],
      "metadata": {
        "id": "DetpsNbWPCVm"
      }
    },
    {
      "cell_type": "code",
      "source": [
        "!pip install scikit-fuzzy "
      ],
      "metadata": {
        "id": "8j0kdSotsnv_",
        "colab": {
          "base_uri": "https://localhost:8080/"
        },
        "outputId": "888284b0-f79d-4519-a7db-1272e0a825cc"
      },
      "execution_count": 90,
      "outputs": [
        {
          "output_type": "stream",
          "name": "stdout",
          "text": [
            "Looking in indexes: https://pypi.org/simple, https://us-python.pkg.dev/colab-wheels/public/simple/\n",
            "Requirement already satisfied: scikit-fuzzy in /usr/local/lib/python3.8/dist-packages (0.4.2)\n",
            "Requirement already satisfied: numpy>=1.6.0 in /usr/local/lib/python3.8/dist-packages (from scikit-fuzzy) (1.21.6)\n",
            "Requirement already satisfied: scipy>=0.9.0 in /usr/local/lib/python3.8/dist-packages (from scikit-fuzzy) (1.7.3)\n",
            "Requirement already satisfied: networkx>=1.9.0 in /usr/local/lib/python3.8/dist-packages (from scikit-fuzzy) (3.0)\n"
          ]
        }
      ]
    },
    {
      "cell_type": "markdown",
      "source": [
        "Montamos el drive en el cuaderno para poder tener acceso a los ficheros *Glass1* de train y de test"
      ],
      "metadata": {
        "id": "MH7seAVX-1Hd"
      }
    },
    {
      "cell_type": "code",
      "execution_count": 91,
      "metadata": {
        "id": "QjAUZJE28f8n",
        "colab": {
          "base_uri": "https://localhost:8080/"
        },
        "outputId": "3a5a9bb0-d54b-4d9a-f2ad-41668e8e5ed5"
      },
      "outputs": [
        {
          "output_type": "stream",
          "name": "stdout",
          "text": [
            "Drive already mounted at /content/drive; to attempt to forcibly remount, call drive.mount(\"/content/drive\", force_remount=True).\n"
          ]
        }
      ],
      "source": [
        "from google.colab import drive\n",
        "drive.mount('/content/drive')"
      ]
    },
    {
      "cell_type": "markdown",
      "source": [
        "Importación de las librerías necesarias"
      ],
      "metadata": {
        "id": "H2mpIiTS_M3f"
      }
    },
    {
      "cell_type": "code",
      "source": [
        "import pandas as pd\n",
        "import numpy as np\n",
        "import numpy as np\n",
        "import pandas as pd\n",
        "import skfuzzy as fuzz\n",
        "from skfuzzy import control as ctrl\n",
        "from sklearn.metrics import accuracy_score, confusion_matrix"
      ],
      "metadata": {
        "id": "wrV0MJCzneG7"
      },
      "execution_count": 92,
      "outputs": []
    },
    {
      "cell_type": "markdown",
      "source": [
        "Lectura de los archivos train y test "
      ],
      "metadata": {
        "id": "7Q2GYf64_Szd"
      }
    },
    {
      "cell_type": "code",
      "source": [
        "training1 = pd.read_csv('/content/drive/MyDrive/CI/Datasets/glass/glass-5dobscv-1tra.dat')\n",
        "test1 = pd.read_csv('/content/drive/MyDrive/CI/Datasets/glass/glass-5dobscv-1tst.dat')\n",
        "\n",
        "training2 = pd.read_csv('/content/drive/MyDrive/CI/Datasets/glass/glass-5dobscv-2tra.dat')\n",
        "test2 = pd.read_csv('/content/drive/MyDrive/CI/Datasets/glass/glass-5dobscv-2tst.dat')\n",
        "\n",
        "training3 = pd.read_csv('/content/drive/MyDrive/CI/Datasets/glass/glass-5dobscv-3tra.dat')\n",
        "test3 = pd.read_csv('/content/drive/MyDrive/CI/Datasets/glass/glass-5dobscv-3tst.dat')\n",
        "\n",
        "training4 = pd.read_csv('/content/drive/MyDrive/CI/Datasets/glass/glass-5dobscv-4tra.dat')\n",
        "test4 = pd.read_csv('/content/drive/MyDrive/CI/Datasets/glass/glass-5dobscv-4tst.dat')\n",
        "\n",
        "training5 = pd.read_csv('/content/drive/MyDrive/CI/Datasets/glass/glass-5dobscv-5tra.dat')\n",
        "test5 = pd.read_csv('/content/drive/MyDrive/CI/Datasets/glass/glass-5dobscv-5tst.dat')"
      ],
      "metadata": {
        "id": "DnRUHu87nhCo"
      },
      "execution_count": 93,
      "outputs": []
    },
    {
      "cell_type": "markdown",
      "source": [
        "Definimos el universo de discurso de cada variable"
      ],
      "metadata": {
        "id": "nRF9K6Wm_ZwZ"
      }
    },
    {
      "cell_type": "code",
      "source": [
        "Universo_RI = np.arange(1.51115,1.53393,0.00001)\n",
        "Universo_Na = np.arange(10.73,17.38,0.01)\n",
        "Universo_Mg = np.arange(0.0,4.49,0.01)\n",
        "Universo_Al = np.arange(0.29,3.5,0.01)\n",
        "Universo_Si = np.arange(69.81,75.41,0.01)\n",
        "Universo_K = np.arange(0.0,6.21,0.01)\n",
        "Universo_Ca = np.arange(5.43,16.19,0.01)\n",
        "Universo_Ba = np.arange(0.0,3.15,0.01)\n",
        "Universo_Fe = np.arange(0.0,0.51,0.01)"
      ],
      "metadata": {
        "id": "t_nb0VN4_dz6"
      },
      "execution_count": 94,
      "outputs": []
    },
    {
      "cell_type": "markdown",
      "source": [
        "Antecedentes"
      ],
      "metadata": {
        "id": "MPVxEsGcDoqF"
      }
    },
    {
      "cell_type": "code",
      "source": [
        "RI = ctrl.Antecedent(Universo_RI, 'RI') \n",
        "Na = ctrl.Antecedent(Universo_Na, 'Na') \n",
        "Mg = ctrl.Antecedent(Universo_Mg, 'Mg') \n",
        "Al = ctrl.Antecedent(Universo_Al, 'Al') \n",
        "Si = ctrl.Antecedent(Universo_Si, 'Si') \n",
        "K = ctrl.Antecedent(Universo_K, 'K') \n",
        "Ca = ctrl.Antecedent(Universo_Ca, 'Ca') \n",
        "Ba = ctrl.Antecedent(Universo_Ba, 'Ba') \n",
        "Fe = ctrl.Antecedent(Universo_Fe, 'Fe') "
      ],
      "metadata": {
        "id": "PHha7QXnDoRv"
      },
      "execution_count": 95,
      "outputs": []
    },
    {
      "cell_type": "markdown",
      "source": [
        "Consecuente"
      ],
      "metadata": {
        "id": "sjB0VtzBEQ2a"
      }
    },
    {
      "cell_type": "code",
      "source": [
        "TypeGlass = ctrl.Consequent(np.arange(1, 8, 1), 'TypeGlass')"
      ],
      "metadata": {
        "id": "OWfnzU7AES6t"
      },
      "execution_count": 96,
      "outputs": []
    },
    {
      "cell_type": "markdown",
      "source": [
        "Creación de las etiquetas"
      ],
      "metadata": {
        "id": "VskS3lXpT0kJ"
      }
    },
    {
      "cell_type": "markdown",
      "source": [
        "## 3 Etiquetas"
      ],
      "metadata": {
        "id": "N_BWE1qRP6HH"
      }
    },
    {
      "cell_type": "code",
      "source": [
        "RI.automf(3)\n",
        "Na.automf(3) \n",
        "Mg.automf(3) \n",
        "Al.automf(3) \n",
        "Si.automf(3)\n",
        "K.automf(3) \n",
        "Ca.automf(3) \n",
        "Ba.automf(3) \n",
        "Fe.automf(3) \n",
        "\n",
        "clases = ['1','2','3','4','5','6','7']\n",
        "TypeGlass.automf(names = clases)"
      ],
      "metadata": {
        "id": "z-tzvemGEeFF"
      },
      "execution_count": 97,
      "outputs": []
    },
    {
      "cell_type": "markdown",
      "source": [
        "### Funciones creadas "
      ],
      "metadata": {
        "id": "gQFkaT7cgMXY"
      }
    },
    {
      "cell_type": "code",
      "source": [
        "def gradoPertenencia(rango, elemento, valor):\n",
        "  membresiaBaja = fuzz.interp_membership(rango, elemento['poor'].mf, valor)\n",
        "  membresiaMedia = fuzz.interp_membership(rango, elemento['average'].mf, valor)\n",
        "  membresiaAlta = fuzz.interp_membership(rango, elemento['good'].mf, valor)\n",
        "\n",
        "  membresias = [membresiaBaja, membresiaMedia, membresiaAlta]\n",
        "\n",
        "  m = np.argmax(membresias)\n",
        "\n",
        "  if(m==0):\n",
        "    etiqueta = 'poor'\n",
        "  \n",
        "  if(m==1):\n",
        "    etiqueta = 'average'\n",
        "\n",
        "  if(m==2):\n",
        "    etiqueta = 'good'\n",
        "\n",
        "  return etiqueta, membresias[m]"
      ],
      "metadata": {
        "id": "DTtBwAXOUstj"
      },
      "execution_count": 99,
      "outputs": []
    },
    {
      "cell_type": "code",
      "source": [
        "def gradoPertenenciaClasificacion(rango, elemento, valor, clase):\n",
        "  membresiaBaja = fuzz.interp_membership(rango, elemento['poor'].mf, valor)\n",
        "  membresiaMedia = fuzz.interp_membership(rango, elemento['average'].mf, valor)\n",
        "  membresiaAlta = fuzz.interp_membership(rango, elemento['good'].mf, valor)\n",
        "\n",
        "  if(clase=='poor'):\n",
        "    etiqueta = membresiaBaja\n",
        "\n",
        "  if(clase=='average'):\n",
        "    etiqueta = membresiaMedia\n",
        "\n",
        "  if(clase=='good'):\n",
        "    etiqueta = membresiaAlta\n",
        "\n",
        "  return etiqueta"
      ],
      "metadata": {
        "id": "zrLw_v9agqwA"
      },
      "execution_count": 100,
      "outputs": []
    },
    {
      "cell_type": "code",
      "source": [
        "def generadorDeReglas(dataframe):\n",
        "  #Dataframe de reglas\n",
        "  reglas = pd.DataFrame()\n",
        "  reglas[['RI', 'Na', 'Mg', 'Al', 'Si', 'K', 'Ca', 'Ba', 'Fe', 'TypeGlass']] = None\n",
        "  reglasRI, reglasNa, reglasMg, reglasAl, reglasSi, reglasK, reglasCa, reglasBa, reglasFe = [],[],[],[],[],[],[],[],[]\n",
        "\n",
        "  #Dataframe grados de pertenencia\n",
        "  gradosPertenencia = pd.DataFrame()\n",
        "  gradosPertenencia[['RI', 'Na', 'Mg', 'Al', 'Si', 'K', 'Ca', 'Ba', 'Fe', 'TypeGlass']] = None\n",
        "  gradoPertenenciaRI, gradoPertenenciaNa, gradoPertenenciaMg, gradoPertenenciaAl, gradoPertenenciaSi, gradoPertenenciaK, gradoPertenenciaCa, gradoPertenenciaBa, gradoPertenenciaFe = [],[],[],[],[],[],[],[],[]\n",
        "\n",
        "  for i in range(len(dataframe)):\n",
        "    valorRI = dataframe.iloc[i]['RI']\n",
        "    reg, gp = gradoPertenencia(Universo_RI, RI, valorRI)\n",
        "    reglasRI.append(reg)\n",
        "    gradoPertenenciaRI.append(gp)\n",
        "\n",
        "    valorNa = dataframe.iloc[i]['Na']\n",
        "    reg, gp = gradoPertenencia(Universo_Na, Na, valorNa)\n",
        "    reglasNa.append(reg)\n",
        "    gradoPertenenciaNa.append(gp)\n",
        "\n",
        "    valorMg = dataframe.iloc[i]['Mg']\n",
        "    reg, gp = gradoPertenencia(Universo_Mg, Mg, valorMg)\n",
        "    reglasMg.append(reg)\n",
        "    gradoPertenenciaMg.append(gp)\n",
        "\n",
        "    valorAl = dataframe.iloc[i]['Al']\n",
        "    reg, gp = gradoPertenencia(Universo_Al, Al, valorAl)\n",
        "    reglasAl.append(reg)\n",
        "    gradoPertenenciaAl.append(gp)\n",
        "\n",
        "    valorSi = dataframe.iloc[i]['Si']\n",
        "    reg, gp = gradoPertenencia(Universo_Si, Si, valorSi)\n",
        "    reglasSi.append(reg)\n",
        "    gradoPertenenciaSi.append(gp)\n",
        "\n",
        "    valorK = dataframe.iloc[i]['K']\n",
        "    reg, gp = gradoPertenencia(Universo_K, K, valorK)\n",
        "    reglasK.append(reg)\n",
        "    gradoPertenenciaK.append(gp)\n",
        "\n",
        "    valorCa = dataframe.iloc[i]['Ca']\n",
        "    reg, gp = gradoPertenencia(Universo_Ca, Ca, valorCa)\n",
        "    reglasCa.append(reg)\n",
        "    gradoPertenenciaCa.append(gp)\n",
        "\n",
        "    valorBa = dataframe.iloc[i]['Ba']\n",
        "    reg, gp = gradoPertenencia(Universo_Ba, Ba, valorBa)\n",
        "    reglasBa.append(reg)\n",
        "    gradoPertenenciaBa.append(gp)\n",
        "\n",
        "    valorFe = dataframe.iloc[i]['Fe']\n",
        "    reg, gp = gradoPertenencia(Universo_Fe, Fe, valorFe)\n",
        "    reglasFe.append(reg)\n",
        "    gradoPertenenciaFe.append(gp)\n",
        "\n",
        "  reglas['RI'] = reglasRI\n",
        "  reglas['Na'] = reglasNa\n",
        "  reglas['Mg'] = reglasMg\n",
        "  reglas['Al'] = reglasAl\n",
        "  reglas['Si'] = reglasSi\n",
        "  reglas['K'] = reglasK\n",
        "  reglas['Ca'] = reglasCa\n",
        "  reglas['Ba'] = reglasBa\n",
        "  reglas['Fe'] = reglasFe\n",
        "  reglas['TypeGlass'] = dataframe['TypeGlass']\n",
        "\n",
        "  gradosPertenencia['RI'] = gradoPertenenciaRI\n",
        "  gradosPertenencia['Na'] = gradoPertenenciaNa\n",
        "  gradosPertenencia['Mg'] = gradoPertenenciaMg\n",
        "  gradosPertenencia['Al'] = gradoPertenenciaAl\n",
        "  gradosPertenencia['Si'] = gradoPertenenciaSi\n",
        "  gradosPertenencia['K'] = gradoPertenenciaK\n",
        "  gradosPertenencia['Ca'] = gradoPertenenciaCa\n",
        "  gradosPertenencia['Ba'] = gradoPertenenciaBa\n",
        "  gradosPertenencia['Fe'] = gradoPertenenciaFe\n",
        "  gradosPertenencia['TypeGlass'] = dataframe['TypeGlass']\n",
        "\n",
        "  return reglas, gradosPertenencia"
      ],
      "metadata": {
        "id": "SQ_H1zegidI5"
      },
      "execution_count": 101,
      "outputs": []
    },
    {
      "cell_type": "code",
      "source": [
        "def generaGC(reglas, gradosPertenencia):\n",
        "  reglas_aux = reglas.drop(['TypeGlass'], axis=1)\n",
        "  gradosPertenencia_aux = gradosPertenencia.drop(['TypeGlass'], axis=1)\n",
        "\n",
        "  GCs = []\n",
        "\n",
        "  for i in range(len(reglas_aux)):\n",
        "    # Calculamos Sj agrupando las filas con los mismos antecedentes y los mismos consecuentes\n",
        "    fila_Sj = reglas.iloc[i,:]\n",
        "    count = (reglas == fila_Sj).all(axis=1)\n",
        "    indices = [i for i, x in enumerate(count.tolist()) if x == True]\n",
        "    Sj = 0\n",
        "\n",
        "    for index in indices:\n",
        "      f = gradosPertenencia_aux.iloc[index,:].tolist()\n",
        "      Sj = Sj + sum(f)\n",
        "\n",
        "    #Calculamos S\n",
        "    fila = reglas_aux.iloc[i,:]\n",
        "    count = (reglas_aux == fila).all(axis=1)\n",
        "    indices = [i for i, x in enumerate(count.tolist()) if x == True]\n",
        "    S = 0\n",
        "    for index in indices:\n",
        "      f = gradosPertenencia_aux.iloc[index,:].tolist()\n",
        "      S = S + sum(f)\n",
        "\n",
        "    #Finalmente con Sj y S podemos calcular el grado de certeza\n",
        "    gc = round(Sj/S,6)\n",
        "    GCs.append(gc)\n",
        "\n",
        "  reglas[\"GradoCerteza\"] = GCs"
      ],
      "metadata": {
        "id": "i3On4nnTsn3G"
      },
      "execution_count": 102,
      "outputs": []
    },
    {
      "cell_type": "code",
      "source": [
        "def limpiaReglas(reglas):\n",
        "  #Eliminamos reglas duplicadas\n",
        "  reglas = reglas.drop_duplicates()\n",
        "\n",
        "  #Además eliminamos las reglas que no tienen suficiente calidad\n",
        "  reglas = reglas[~(reglas['GradoCerteza']<0.5)]\n",
        "\n",
        "  print(\"Número de reglas: \" + str(len(reglas))) # esto nos interesa para rellenar el número de reglas utilizado de la tabla (#R)\n",
        "\n",
        "  return reglas"
      ],
      "metadata": {
        "id": "pS-1-1JJxPbc"
      },
      "execution_count": 103,
      "outputs": []
    },
    {
      "cell_type": "code",
      "source": [
        "def clasificador(reglas, test):\n",
        "  etiquetasTest = test['TypeGlass']\n",
        "  test = test.drop(['TypeGlass'], axis=1)\n",
        "\n",
        "  predicciones = []\n",
        "\n",
        "  for i in range(len(test)):\n",
        "    tmp = test.iloc[i, :]\n",
        "\n",
        "    #Extraemos los valores de cada fila cuando la vayamos recorriendo\n",
        "    tmpRI = tmp['RI']\n",
        "    tmpNa = tmp['Na']\n",
        "    tmpMg = tmp['Mg']\n",
        "    tmpAl = tmp['Al']\n",
        "    tmpSi = tmp['Si']\n",
        "    tmpK = tmp['K']\n",
        "    tmpCa = tmp['Ca']\n",
        "    tmpBa = tmp['Ba']\n",
        "    tmpFe = tmp['Fe']\n",
        "\n",
        "    # Lista para almacenar el grado de emparejamiento para cada regla\n",
        "    hi = []\n",
        "\n",
        "    for j in range(len(reglas)):\n",
        "      gradoEmparejamiento = []\n",
        "      tmpReglas = reglas.iloc[j, :]\n",
        "\n",
        "      # Obtener el grado de pertenencia para cada característica\n",
        "      gradoEmparejamiento.append(gradoPertenenciaClasificacion(Universo_RI, RI, tmpRI, tmpReglas['RI']))\n",
        "      gradoEmparejamiento.append(gradoPertenenciaClasificacion(Universo_Na, Na, tmpNa, tmpReglas['Na']))\n",
        "      gradoEmparejamiento.append(gradoPertenenciaClasificacion(Universo_Mg, Mg, tmpMg, tmpReglas['Mg']))\n",
        "      gradoEmparejamiento.append(gradoPertenenciaClasificacion(Universo_Al, Al, tmpAl, tmpReglas['Al']))\n",
        "      gradoEmparejamiento.append(gradoPertenenciaClasificacion(Universo_Si, Si, tmpSi, tmpReglas['Si']))\n",
        "      gradoEmparejamiento.append(gradoPertenenciaClasificacion(Universo_K, K, tmpK, tmpReglas['K']))\n",
        "      gradoEmparejamiento.append(gradoPertenenciaClasificacion(Universo_Ca, Ca, tmpCa, tmpReglas['Ca']))\n",
        "      gradoEmparejamiento.append(gradoPertenenciaClasificacion(Universo_Ba, Ba, tmpBa, tmpReglas['Ba']))\n",
        "      gradoEmparejamiento.append(gradoPertenenciaClasificacion(Universo_Fe, Fe, tmpFe, tmpReglas['Fe']))\n",
        "\n",
        "      hi.append(min(gradoEmparejamiento))\n",
        "\n",
        "    reglas['hi'] = hi\n",
        "    reglas['ga'] = reglas['GradoCerteza'] * reglas['hi']\n",
        "\n",
        "    predicciones.append(reglas['TypeGlass'].loc[reglas['ga'].idxmax()]) \n",
        "\n",
        "  accuracy = accuracy_score(etiquetasTest, predicciones)\n",
        "\n",
        "  return accuracy"
      ],
      "metadata": {
        "id": "OyhIQRlX2VJh"
      },
      "execution_count": 104,
      "outputs": []
    },
    {
      "cell_type": "markdown",
      "source": [
        "Creación de reglas"
      ],
      "metadata": {
        "id": "6wSZ9OUf9wHh"
      }
    },
    {
      "cell_type": "code",
      "source": [
        "reglasTraining1,gradosPertenenciaTraining1 = generadorDeReglas(training1)\n",
        "reglasTraining2,gradosPertenenciaTraining2 = generadorDeReglas(training2)\n",
        "reglasTraining3,gradosPertenenciaTraining3 = generadorDeReglas(training3)\n",
        "reglasTraining4,gradosPertenenciaTraining4 = generadorDeReglas(training4)\n",
        "reglasTraining5,gradosPertenenciaTraining5 = generadorDeReglas(training5)"
      ],
      "metadata": {
        "id": "fYVRELZa92ff"
      },
      "execution_count": 105,
      "outputs": []
    },
    {
      "cell_type": "markdown",
      "source": [
        "Calculamos el grado de certeza para cada regla"
      ],
      "metadata": {
        "id": "HYcmzk36B2kM"
      }
    },
    {
      "cell_type": "code",
      "source": [
        "generaGC(reglasTraining1,gradosPertenenciaTraining1)\n",
        "generaGC(reglasTraining2,gradosPertenenciaTraining2)\n",
        "generaGC(reglasTraining3,gradosPertenenciaTraining3)\n",
        "generaGC(reglasTraining4,gradosPertenenciaTraining4)\n",
        "generaGC(reglasTraining5,gradosPertenenciaTraining5)"
      ],
      "metadata": {
        "id": "EHoydBlR-idv"
      },
      "execution_count": 106,
      "outputs": []
    },
    {
      "cell_type": "markdown",
      "source": [
        "Limpieza de reglas"
      ],
      "metadata": {
        "id": "e5tluCtoDx72"
      }
    },
    {
      "cell_type": "code",
      "source": [
        "print(\"Partición 1/5\")\n",
        "reglasTraining1 = limpiaReglas(reglasTraining1)\n",
        "\n",
        "print(\"Partición 2/5\")\n",
        "reglasTraining2 = limpiaReglas(reglasTraining2)\n",
        "\n",
        "print(\"Partición 3/5\")\n",
        "reglasTraining3 = limpiaReglas(reglasTraining3)\n",
        "\n",
        "print(\"Partición 4/5\")\n",
        "reglasTraining4 = limpiaReglas(reglasTraining4)\n",
        "\n",
        "print(\"Partición 5/5\")\n",
        "reglasTraining5 = limpiaReglas(reglasTraining5)"
      ],
      "metadata": {
        "colab": {
          "base_uri": "https://localhost:8080/"
        },
        "id": "zoyxKgUDDZIM",
        "outputId": "23458082-d457-49dd-a111-d892178fb517"
      },
      "execution_count": 107,
      "outputs": [
        {
          "output_type": "stream",
          "name": "stdout",
          "text": [
            "Partición 1/5\n",
            "Número de reglas: 34\n",
            "Partición 2/5\n",
            "Número de reglas: 38\n",
            "Partición 3/5\n",
            "Número de reglas: 39\n",
            "Partición 4/5\n",
            "Número de reglas: 39\n",
            "Partición 5/5\n",
            "Número de reglas: 39\n"
          ]
        }
      ]
    },
    {
      "cell_type": "markdown",
      "source": [
        "Entrenamiento"
      ],
      "metadata": {
        "id": "LMfkkterD9Y-"
      }
    },
    {
      "cell_type": "code",
      "source": [
        "acc = clasificador(reglasTraining1,training1)\n",
        "print(\"Accuracy de la particion 1: \" + str(acc))\n",
        "\n",
        "acc = clasificador(reglasTraining2,training2)\n",
        "print(\"Accuracy de la particion 2: \" + str(acc))\n",
        "\n",
        "acc = clasificador(reglasTraining3,training3)\n",
        "print(\"Accuracy de la particion 3: \" + str(acc))\n",
        "\n",
        "acc = clasificador(reglasTraining4,training4)\n",
        "print(\"Accuracy de la particion 4: \" + str(acc))\n",
        "\n",
        "acc = clasificador(reglasTraining5,training5)\n",
        "print(\"Accuracy de la particion 5: \" + str(acc))"
      ],
      "metadata": {
        "colab": {
          "base_uri": "https://localhost:8080/"
        },
        "id": "vIbJgPGVD_Qz",
        "outputId": "3f4d1ead-10f7-4cb8-ad03-2c4b0a3b2fc6"
      },
      "execution_count": 108,
      "outputs": [
        {
          "output_type": "stream",
          "name": "stdout",
          "text": [
            "Accuracy de la particion 1: 0.5680473372781065\n",
            "Accuracy de la particion 2: 0.5470588235294118\n",
            "Accuracy de la particion 3: 0.5146198830409356\n",
            "Accuracy de la particion 4: 0.5930232558139535\n",
            "Accuracy de la particion 5: 0.5402298850574713\n"
          ]
        }
      ]
    },
    {
      "cell_type": "markdown",
      "source": [
        "Test"
      ],
      "metadata": {
        "id": "UUTp-ZCTELgy"
      }
    },
    {
      "cell_type": "code",
      "source": [
        "acc = clasificador(reglasTraining1,test1)\n",
        "print(\"Accuracy de la particion 1: \" + str(acc))\n",
        "\n",
        "acc = clasificador(reglasTraining2,test2)\n",
        "print(\"Accuracy de la particion 2: \" + str(acc))\n",
        "\n",
        "acc = clasificador(reglasTraining3,test3)\n",
        "print(\"Accuracy de la particion 3: \" + str(acc))\n",
        "\n",
        "acc = clasificador(reglasTraining4,test4)\n",
        "print(\"Accuracy de la particion 4: \" + str(acc))\n",
        "\n",
        "acc = clasificador(reglasTraining5,test5)\n",
        "print(\"Accuracy de la particion 5: \" + str(acc))"
      ],
      "metadata": {
        "colab": {
          "base_uri": "https://localhost:8080/"
        },
        "id": "ORJEA6sMEMpW",
        "outputId": "e2b421be-5424-4278-a4eb-3dcdd3bfd9f1"
      },
      "execution_count": 109,
      "outputs": [
        {
          "output_type": "stream",
          "name": "stdout",
          "text": [
            "Accuracy de la particion 1: 0.4666666666666667\n",
            "Accuracy de la particion 2: 0.4772727272727273\n",
            "Accuracy de la particion 3: 0.4883720930232558\n",
            "Accuracy de la particion 4: 0.42857142857142855\n",
            "Accuracy de la particion 5: 0.625\n"
          ]
        }
      ]
    },
    {
      "cell_type": "markdown",
      "source": [
        "## 5 Etiquetas"
      ],
      "metadata": {
        "id": "4d9j75BYP0lM"
      }
    },
    {
      "cell_type": "markdown",
      "source": [
        "Creación de las etiquetas"
      ],
      "metadata": {
        "id": "hUxHYkq3PwLN"
      }
    },
    {
      "cell_type": "code",
      "source": [
        "RI.automf(5)\n",
        "Na.automf(5) \n",
        "Mg.automf(5) \n",
        "Al.automf(5) \n",
        "Si.automf(5)\n",
        "K.automf(5) \n",
        "Ca.automf(5) \n",
        "Ba.automf(5) \n",
        "Fe.automf(5) \n",
        "\n",
        "clases = ['1','2','3','4','5','6','7']\n",
        "TypeGlass.automf(names = clases)"
      ],
      "metadata": {
        "id": "tluqjH6UPwLN"
      },
      "execution_count": 110,
      "outputs": []
    },
    {
      "cell_type": "markdown",
      "source": [
        "### Funciones creadas\n",
        "\n",
        "*Nótese que solo se han redefinido las funciones que han supuesto un cambio con el incremento de etiquetas a 5 para evitar la escritura de código redundante*"
      ],
      "metadata": {
        "id": "q6-e8s3gPwLO"
      }
    },
    {
      "cell_type": "code",
      "source": [
        "def gradoPertenencia(rango, elemento, valor):\n",
        "  membresiaBaja = fuzz.interp_membership(rango, elemento['poor'].mf, valor)\n",
        "  membresiaBajaMedia = fuzz.interp_membership(rango, elemento['mediocre'].mf, valor)\n",
        "  membresiaMedia = fuzz.interp_membership(rango, elemento['average'].mf, valor)\n",
        "  membresiaMediaAlta = fuzz.interp_membership(rango, elemento['decent'].mf, valor)\n",
        "  membresiaAlta = fuzz.interp_membership(rango, elemento['good'].mf, valor)\n",
        "\n",
        "  membresias = [membresiaBaja, membresiaBajaMedia, membresiaMedia, membresiaMediaAlta, membresiaAlta]\n",
        "\n",
        "  m = np.argmax(membresias)\n",
        "\n",
        "  if(m==0):\n",
        "    etiqueta = 'poor'\n",
        "  \n",
        "  if(m==1):\n",
        "    etiqueta = 'mediocre'\n",
        "\n",
        "  if(m==2):\n",
        "    etiqueta = 'average'\n",
        "\n",
        "  if(m==3):\n",
        "    etiqueta = 'decent'\n",
        "\n",
        "  if(m==4):\n",
        "    etiqueta = 'good'\n",
        "\n",
        "  return etiqueta, membresias[m]"
      ],
      "metadata": {
        "id": "tOssUHKyPwLO"
      },
      "execution_count": 112,
      "outputs": []
    },
    {
      "cell_type": "code",
      "source": [
        "def gradoPertenenciaClasificacion(rango, elemento, valor, clase):\n",
        "  membresiaBaja = fuzz.interp_membership(rango, elemento['poor'].mf, valor)\n",
        "  membresiaBajaMedia = fuzz.interp_membership(rango, elemento['mediocre'].mf, valor)\n",
        "  membresiaMedia = fuzz.interp_membership(rango, elemento['average'].mf, valor)\n",
        "  membresiaMediaAlta = fuzz.interp_membership(rango, elemento['decent'].mf, valor)\n",
        "  membresiaAlta = fuzz.interp_membership(rango, elemento['good'].mf, valor)\n",
        "\n",
        "  if(clase=='poor'):\n",
        "    etiqueta = membresiaBaja\n",
        "\n",
        "  if(clase=='mediocre'):\n",
        "    etiqueta = membresiaBajaMedia\n",
        "\n",
        "  if(clase=='average'):\n",
        "    etiqueta = membresiaMedia\n",
        "\n",
        "  if(clase=='decent'):\n",
        "    etiqueta = membresiaMediaAlta\n",
        "\n",
        "  if(clase=='good'):\n",
        "    etiqueta = membresiaAlta\n",
        "\n",
        "  return etiqueta"
      ],
      "metadata": {
        "id": "p50YxldjPwLP"
      },
      "execution_count": 113,
      "outputs": []
    },
    {
      "cell_type": "markdown",
      "source": [
        "Creación de reglas"
      ],
      "metadata": {
        "id": "oX9FQSQ0PwLQ"
      }
    },
    {
      "cell_type": "code",
      "source": [
        "reglasTraining1,gradosPertenenciaTraining1 = generadorDeReglas(training1)\n",
        "reglasTraining2,gradosPertenenciaTraining2 = generadorDeReglas(training2)\n",
        "reglasTraining3,gradosPertenenciaTraining3 = generadorDeReglas(training3)\n",
        "reglasTraining4,gradosPertenenciaTraining4 = generadorDeReglas(training4)\n",
        "reglasTraining5,gradosPertenenciaTraining5 = generadorDeReglas(training5)"
      ],
      "metadata": {
        "id": "XdXGWmf1PwLR"
      },
      "execution_count": 114,
      "outputs": []
    },
    {
      "cell_type": "markdown",
      "source": [
        "Calculamos el grado de certeza para cada regla"
      ],
      "metadata": {
        "id": "qAy2ohwWPwLR"
      }
    },
    {
      "cell_type": "code",
      "source": [
        "generaGC(reglasTraining1,gradosPertenenciaTraining1)\n",
        "generaGC(reglasTraining2,gradosPertenenciaTraining2)\n",
        "generaGC(reglasTraining3,gradosPertenenciaTraining3)\n",
        "generaGC(reglasTraining4,gradosPertenenciaTraining4)\n",
        "generaGC(reglasTraining5,gradosPertenenciaTraining5)"
      ],
      "metadata": {
        "id": "RKQZs8XbPwLR"
      },
      "execution_count": 115,
      "outputs": []
    },
    {
      "cell_type": "markdown",
      "source": [
        "Limpieza de reglas"
      ],
      "metadata": {
        "id": "CKYn-kGOPwLR"
      }
    },
    {
      "cell_type": "code",
      "source": [
        "print(\"Partición 1/5\")\n",
        "reglasTraining1 = limpiaReglas(reglasTraining1)\n",
        "\n",
        "print(\"Partición 2/5\")\n",
        "reglasTraining2 = limpiaReglas(reglasTraining2)\n",
        "\n",
        "print(\"Partición 3/5\")\n",
        "reglasTraining3 = limpiaReglas(reglasTraining3)\n",
        "\n",
        "print(\"Partición 4/5\")\n",
        "reglasTraining4 = limpiaReglas(reglasTraining4)\n",
        "\n",
        "print(\"Partición 5/5\")\n",
        "reglasTraining5 = limpiaReglas(reglasTraining5)"
      ],
      "metadata": {
        "colab": {
          "base_uri": "https://localhost:8080/"
        },
        "id": "cSgwz6bgPwLR",
        "outputId": "f7f92dc5-bd4e-41ba-fa93-1f2f442bbe25"
      },
      "execution_count": 116,
      "outputs": [
        {
          "output_type": "stream",
          "name": "stdout",
          "text": [
            "Partición 1/5\n",
            "Número de reglas: 71\n",
            "Partición 2/5\n",
            "Número de reglas: 73\n",
            "Partición 3/5\n",
            "Número de reglas: 76\n",
            "Partición 4/5\n",
            "Número de reglas: 79\n",
            "Partición 5/5\n",
            "Número de reglas: 79\n"
          ]
        }
      ]
    },
    {
      "cell_type": "markdown",
      "source": [
        "Entrenamiento"
      ],
      "metadata": {
        "id": "a579k1DUPwLS"
      }
    },
    {
      "cell_type": "code",
      "source": [
        "acc = clasificador(reglasTraining1,training1)\n",
        "print(\"Accuracy de la particion 1: \" + str(acc))\n",
        "\n",
        "acc = clasificador(reglasTraining2,training2)\n",
        "print(\"Accuracy de la particion 2: \" + str(acc))\n",
        "\n",
        "acc = clasificador(reglasTraining3,training3)\n",
        "print(\"Accuracy de la particion 3: \" + str(acc))\n",
        "\n",
        "acc = clasificador(reglasTraining4,training4)\n",
        "print(\"Accuracy de la particion 4: \" + str(acc))\n",
        "\n",
        "acc = clasificador(reglasTraining5,training5)\n",
        "print(\"Accuracy de la particion 5: \" + str(acc))"
      ],
      "metadata": {
        "colab": {
          "base_uri": "https://localhost:8080/"
        },
        "outputId": "ceb8cd84-ae64-4dba-be69-d30ea43e74a5",
        "id": "OquNeVRTPwLS"
      },
      "execution_count": 117,
      "outputs": [
        {
          "output_type": "stream",
          "name": "stdout",
          "text": [
            "Accuracy de la particion 1: 0.7869822485207101\n",
            "Accuracy de la particion 2: 0.7588235294117647\n",
            "Accuracy de la particion 3: 0.783625730994152\n",
            "Accuracy de la particion 4: 0.7790697674418605\n",
            "Accuracy de la particion 5: 0.7816091954022989\n"
          ]
        }
      ]
    },
    {
      "cell_type": "markdown",
      "source": [
        "Test"
      ],
      "metadata": {
        "id": "ejwJUnGrPwLS"
      }
    },
    {
      "cell_type": "code",
      "source": [
        "acc = clasificador(reglasTraining1,test1)\n",
        "print(\"Accuracy de la particion 1: \" + str(acc))\n",
        "\n",
        "acc = clasificador(reglasTraining2,test2)\n",
        "print(\"Accuracy de la particion 2: \" + str(acc))\n",
        "\n",
        "acc = clasificador(reglasTraining3,test3)\n",
        "print(\"Accuracy de la particion 3: \" + str(acc))\n",
        "\n",
        "acc = clasificador(reglasTraining4,test4)\n",
        "print(\"Accuracy de la particion 4: \" + str(acc))\n",
        "\n",
        "acc = clasificador(reglasTraining5,test5)\n",
        "print(\"Accuracy de la particion 5: \" + str(acc))"
      ],
      "metadata": {
        "colab": {
          "base_uri": "https://localhost:8080/"
        },
        "outputId": "be7af1bc-9b87-4db7-d69c-0916c4b58c22",
        "id": "NQP6hGjtPwLS"
      },
      "execution_count": 118,
      "outputs": [
        {
          "output_type": "stream",
          "name": "stdout",
          "text": [
            "Accuracy de la particion 1: 0.5333333333333333\n",
            "Accuracy de la particion 2: 0.6136363636363636\n",
            "Accuracy de la particion 3: 0.6744186046511628\n",
            "Accuracy de la particion 4: 0.6428571428571429\n",
            "Accuracy de la particion 5: 0.625\n"
          ]
        }
      ]
    }
  ]
}