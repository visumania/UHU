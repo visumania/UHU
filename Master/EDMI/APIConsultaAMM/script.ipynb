{
 "cells": [
  {
   "attachments": {},
   "cell_type": "markdown",
   "metadata": {},
   "source": [
    "# API-FORMULA-1\n",
    "\n",
    "[Documentación](https://api-sports.io/documentation/formula-1/v1) de la API elegida. "
   ]
  },
  {
   "cell_type": "code",
   "execution_count": 3,
   "metadata": {},
   "outputs": [],
   "source": [
    "import requests"
   ]
  },
  {
   "attachments": {},
   "cell_type": "markdown",
   "metadata": {},
   "source": [
    "### Obtener la información relacionada con un circuito a través de su nombre"
   ]
  },
  {
   "cell_type": "code",
   "execution_count": 12,
   "metadata": {},
   "outputs": [
    {
     "name": "stdout",
     "output_type": "stream",
     "text": [
      "Introduzca nombre (o aproximación) del circuito a consultar: \n"
     ]
    },
    {
     "data": {
      "text/plain": [
       "{'get': 'circuits',\n",
       " 'parameters': {'search': 'monaco'},\n",
       " 'errors': [],\n",
       " 'results': 1,\n",
       " 'response': [{'id': 7,\n",
       "   'name': 'Circuit de Monaco',\n",
       "   'image': 'https://media-3.api-sports.io/formula-1/circuits/7.png',\n",
       "   'competition': {'id': 7,\n",
       "    'name': 'Monaco Grand Prix',\n",
       "    'location': {'country': 'Monaco', 'city': 'Monte-Carlo'}},\n",
       "   'first_grand_prix': 1950,\n",
       "   'laps': 78,\n",
       "   'length': '3.337 Kms',\n",
       "   'race_distance': '260.286 kms',\n",
       "   'lap_record': {'time': '1:12.909',\n",
       "    'driver': 'Lewis Hamilton',\n",
       "    'year': '2021'},\n",
       "   'capacity': 37000,\n",
       "   'opened': 1950,\n",
       "   'owner': None}]}"
      ]
     },
     "execution_count": 12,
     "metadata": {},
     "output_type": "execute_result"
    }
   ],
   "source": [
    "url = \"https://v1.formula-1.api-sports.io/circuits\"\n",
    "\n",
    "print(\"Introduzca nombre (o aproximación) del circuito a consultar: \")\n",
    "circuitName = input()\n",
    "\n",
    "params={\n",
    "    'search': circuitName\n",
    "    }\n",
    "headers = {\n",
    "  'x-rapidapi-key': 'b92fb4c9e53903e894418eb02d09f966',\n",
    "  'x-rapidapi-host': 'v1.formula-1.api-sports.io'\n",
    "}\n",
    "\n",
    "response = requests.request(\"GET\", url, headers=headers, params=params)\n",
    "\n",
    "response.json()"
   ]
  },
  {
   "attachments": {},
   "cell_type": "markdown",
   "metadata": {},
   "source": [
    "### Obtener toda la información de un equipo en función de su nombre"
   ]
  },
  {
   "cell_type": "code",
   "execution_count": 13,
   "metadata": {},
   "outputs": [
    {
     "name": "stdout",
     "output_type": "stream",
     "text": [
      "Introduzca nombre (o aproximación) del equipo a consultar: \n"
     ]
    },
    {
     "data": {
      "text/plain": [
       "{'get': 'teams',\n",
       " 'parameters': {'search': 'aston'},\n",
       " 'errors': [],\n",
       " 'results': 1,\n",
       " 'response': [{'id': 17,\n",
       "   'name': 'Aston Martin F1 Team',\n",
       "   'logo': 'https://media-1.api-sports.io/formula-1/teams/17.png',\n",
       "   'base': 'Silverstone, United Kingdom',\n",
       "   'first_team_entry': 2018,\n",
       "   'world_championships': 0,\n",
       "   'highest_race_finish': {'position': 1, 'number': 1},\n",
       "   'pole_positions': 1,\n",
       "   'fastest_laps': 0,\n",
       "   'president': 'Lawrence Stroll',\n",
       "   'director': 'Mike Krack',\n",
       "   'technical_manager': 'Dan Fallows',\n",
       "   'chassis': 'AMR23',\n",
       "   'engine': 'Mercedes',\n",
       "   'tyres': 'Pirelli'}]}"
      ]
     },
     "execution_count": 13,
     "metadata": {},
     "output_type": "execute_result"
    }
   ],
   "source": [
    "url = \"https://v1.formula-1.api-sports.io/teams\"\n",
    "\n",
    "print(\"Introduzca nombre (o aproximación) del equipo a consultar: \")\n",
    "teamName = input()\n",
    "\n",
    "params={\n",
    "    'search': teamName\n",
    "    }\n",
    "headers = {\n",
    "  'x-rapidapi-key': 'b92fb4c9e53903e894418eb02d09f966',\n",
    "  'x-rapidapi-host': 'v1.formula-1.api-sports.io'\n",
    "}\n",
    "\n",
    "response = requests.request(\"GET\", url, headers=headers, params=params)\n",
    "\n",
    "response.json()"
   ]
  },
  {
   "attachments": {},
   "cell_type": "markdown",
   "metadata": {},
   "source": [
    "### Obtener toda la información histórica en F1 de un piloto a través de su nombre"
   ]
  },
  {
   "cell_type": "code",
   "execution_count": 14,
   "metadata": {},
   "outputs": [
    {
     "name": "stdout",
     "output_type": "stream",
     "text": [
      "Introduzca nombre (o aproximación) del nombre del piloto a consultar: \n"
     ]
    },
    {
     "data": {
      "text/plain": [
       "{'get': 'drivers',\n",
       " 'parameters': {'search': 'alonso'},\n",
       " 'errors': [],\n",
       " 'results': 1,\n",
       " 'response': [{'id': 4,\n",
       "   'name': 'Fernando Alonso',\n",
       "   'abbr': 'ALO',\n",
       "   'image': 'https://media-3.api-sports.io/formula-1/drivers/4.png',\n",
       "   'nationality': 'Spanish',\n",
       "   'country': {'name': 'Spain', 'code': 'ES'},\n",
       "   'birthdate': '1981-07-29',\n",
       "   'birthplace': 'Oviedo, Spain',\n",
       "   'number': 14,\n",
       "   'grands_prix_entered': 361,\n",
       "   'world_championships': 2,\n",
       "   'podiums': 101,\n",
       "   'highest_race_finish': {'position': 1, 'number': 32},\n",
       "   'highest_grid_position': 1,\n",
       "   'career_points': '2106',\n",
       "   'teams': [{'season': 2023,\n",
       "     'team': {'id': 17,\n",
       "      'name': 'Aston Martin F1 Team',\n",
       "      'logo': 'https://media-3.api-sports.io/formula-1/teams/17.png'}},\n",
       "    {'season': 2022,\n",
       "     'team': {'id': 13,\n",
       "      'name': 'Alpine F1 Team',\n",
       "      'logo': 'https://media-1.api-sports.io/formula-1/teams/13.png'}},\n",
       "    {'season': 2021,\n",
       "     'team': {'id': 13,\n",
       "      'name': 'Alpine F1 Team',\n",
       "      'logo': 'https://media-1.api-sports.io/formula-1/teams/13.png'}},\n",
       "    {'season': 2018,\n",
       "     'team': {'id': 2,\n",
       "      'name': 'McLaren Racing',\n",
       "      'logo': 'https://media-2.api-sports.io/formula-1/teams/2.png'}},\n",
       "    {'season': 2017,\n",
       "     'team': {'id': 2,\n",
       "      'name': 'McLaren Racing',\n",
       "      'logo': 'https://media-2.api-sports.io/formula-1/teams/2.png'}},\n",
       "    {'season': 2016,\n",
       "     'team': {'id': 2,\n",
       "      'name': 'McLaren Racing',\n",
       "      'logo': 'https://media-2.api-sports.io/formula-1/teams/2.png'}},\n",
       "    {'season': 2015,\n",
       "     'team': {'id': 2,\n",
       "      'name': 'McLaren Racing',\n",
       "      'logo': 'https://media-2.api-sports.io/formula-1/teams/2.png'}},\n",
       "    {'season': 2014,\n",
       "     'team': {'id': 3,\n",
       "      'name': 'Scuderia Ferrari',\n",
       "      'logo': 'https://media-1.api-sports.io/formula-1/teams/3.png'}},\n",
       "    {'season': 2013,\n",
       "     'team': {'id': 3,\n",
       "      'name': 'Scuderia Ferrari',\n",
       "      'logo': 'https://media-1.api-sports.io/formula-1/teams/3.png'}},\n",
       "    {'season': 2012,\n",
       "     'team': {'id': 3,\n",
       "      'name': 'Scuderia Ferrari',\n",
       "      'logo': 'https://media-1.api-sports.io/formula-1/teams/3.png'}},\n",
       "    {'season': 2011,\n",
       "     'team': {'id': 3,\n",
       "      'name': 'Scuderia Ferrari',\n",
       "      'logo': 'https://media-1.api-sports.io/formula-1/teams/3.png'}}]}]}"
      ]
     },
     "execution_count": 14,
     "metadata": {},
     "output_type": "execute_result"
    }
   ],
   "source": [
    "url = \"https://v1.formula-1.api-sports.io/drivers\"\n",
    "\n",
    "print(\"Introduzca nombre (o aproximación) del nombre del piloto a consultar: \")\n",
    "driverName = input()\n",
    "\n",
    "params={\n",
    "    'search': driverName\n",
    "    }\n",
    "headers = {\n",
    "  'x-rapidapi-key': 'b92fb4c9e53903e894418eb02d09f966',\n",
    "  'x-rapidapi-host': 'v1.formula-1.api-sports.io'\n",
    "}\n",
    "\n",
    "response = requests.request(\"GET\", url, headers=headers, params=params)\n",
    "\n",
    "response.json()"
   ]
  }
 ],
 "metadata": {
  "kernelspec": {
   "display_name": "env",
   "language": "python",
   "name": "python3"
  },
  "language_info": {
   "codemirror_mode": {
    "name": "ipython",
    "version": 3
   },
   "file_extension": ".py",
   "mimetype": "text/x-python",
   "name": "python",
   "nbconvert_exporter": "python",
   "pygments_lexer": "ipython3",
   "version": "3.11.1"
  },
  "orig_nbformat": 4
 },
 "nbformat": 4,
 "nbformat_minor": 2
}
